{
 "cells": [
  {
   "cell_type": "code",
   "execution_count": 4,
   "id": "38255748",
   "metadata": {},
   "outputs": [],
   "source": [
    "import pandas as pd\n",
    "from transformers import pipeline\n",
    "\n",
    "# Función para aplicar el modelo al DataFrame\n",
    "def analyze_sentiment(df):\n",
    "    # Crear un objeto de clasificación de sentimiento utilizando el modelo \"cardiffnlp/twitter-roberta-base-sentiment\"\n",
    "    sentiment_classifier = pipeline(\"sentiment-analysis\", model=\"cardiffnlp/twitter-roberta-base-sentiment\")\n",
    "\n",
    "    # Aplicar el modelo a la columna 'Feedback' del DataFrame\n",
    "    predictions = df['Feedback'].apply(lambda x: sentiment_classifier(x)[0])\n",
    "\n",
    "    # Función para asignar etiquetas \"positivo\", \"negativo\" o \"neutro\" en función de la etiqueta original del modelo\n",
    "    def assign_label(prediction):\n",
    "        label = prediction['label']\n",
    "        if label == 'LABEL_0':\n",
    "            return 'negativo'\n",
    "        elif label == 'LABEL_1':\n",
    "            return 'neutro'\n",
    "        elif label == 'LABEL_2':\n",
    "            return 'positivo'\n",
    "\n",
    "    # Agregar una columna 'Sentiment' con las etiquetas asignadas\n",
    "    df['Sentiment'] = predictions.apply(assign_label)\n",
    "\n",
    "    return df\n",
    "\n",
    "# Función para exportar el DataFrame a un archivo Excel\n",
    "def export_to_excel(df, output_file):\n",
    "    df.to_excel(output_file, index=False, engine='openpyxl')\n",
    "\n",
    "# Leer el DataFrame desde el archivo Excel\n",
    "df = pd.read_excel('https://raw.githubusercontent.com/kmiloR2/Maestria/main/feedback-examples.xlsx')\n",
    "\n",
    "# Aplicar el análisis de sentimiento al DataFrame\n",
    "df_with_sentiment = analyze_sentiment(df)\n",
    "\n",
    "# Exportar el DataFrame con el sentimiento y las etiquetas asignadas a un archivo Excel\n",
    "export_to_excel(df_with_sentiment, 'sentiment_analysis_results.xlsx')\n",
    "\n",
    "\n"
   ]
  },
  {
   "cell_type": "code",
   "execution_count": 5,
   "id": "0af66389",
   "metadata": {},
   "outputs": [
    {
     "data": {
      "text/html": [
       "<div>\n",
       "<style scoped>\n",
       "    .dataframe tbody tr th:only-of-type {\n",
       "        vertical-align: middle;\n",
       "    }\n",
       "\n",
       "    .dataframe tbody tr th {\n",
       "        vertical-align: top;\n",
       "    }\n",
       "\n",
       "    .dataframe thead th {\n",
       "        text-align: right;\n",
       "    }\n",
       "</style>\n",
       "<table border=\"1\" class=\"dataframe\">\n",
       "  <thead>\n",
       "    <tr style=\"text-align: right;\">\n",
       "      <th></th>\n",
       "      <th>Feedback</th>\n",
       "      <th>Sentiment</th>\n",
       "    </tr>\n",
       "  </thead>\n",
       "  <tbody>\n",
       "    <tr>\n",
       "      <th>0</th>\n",
       "      <td>I want to talk to you about your work on this ...</td>\n",
       "      <td>neutro</td>\n",
       "    </tr>\n",
       "    <tr>\n",
       "      <th>1</th>\n",
       "      <td>I want to talk to you about your priorities. I...</td>\n",
       "      <td>positivo</td>\n",
       "    </tr>\n",
       "    <tr>\n",
       "      <th>2</th>\n",
       "      <td>Reaching your goal of [name the goal] is a big...</td>\n",
       "      <td>positivo</td>\n",
       "    </tr>\n",
       "    <tr>\n",
       "      <th>3</th>\n",
       "      <td>One of your most impactful moments was how you...</td>\n",
       "      <td>positivo</td>\n",
       "    </tr>\n",
       "    <tr>\n",
       "      <th>4</th>\n",
       "      <td>It’s clear you’re excited about the project. B...</td>\n",
       "      <td>positivo</td>\n",
       "    </tr>\n",
       "  </tbody>\n",
       "</table>\n",
       "</div>"
      ],
      "text/plain": [
       "                                            Feedback Sentiment\n",
       "0  I want to talk to you about your work on this ...    neutro\n",
       "1  I want to talk to you about your priorities. I...  positivo\n",
       "2  Reaching your goal of [name the goal] is a big...  positivo\n",
       "3  One of your most impactful moments was how you...  positivo\n",
       "4  It’s clear you’re excited about the project. B...  positivo"
      ]
     },
     "execution_count": 5,
     "metadata": {},
     "output_type": "execute_result"
    }
   ],
   "source": [
    "df.head()"
   ]
  },
  {
   "cell_type": "code",
   "execution_count": null,
   "id": "327a0970",
   "metadata": {},
   "outputs": [],
   "source": []
  }
 ],
 "metadata": {
  "kernelspec": {
   "display_name": "Python 3 (ipykernel)",
   "language": "python",
   "name": "python3"
  },
  "language_info": {
   "codemirror_mode": {
    "name": "ipython",
    "version": 3
   },
   "file_extension": ".py",
   "mimetype": "text/x-python",
   "name": "python",
   "nbconvert_exporter": "python",
   "pygments_lexer": "ipython3",
   "version": "3.9.12"
  }
 },
 "nbformat": 4,
 "nbformat_minor": 5
}
