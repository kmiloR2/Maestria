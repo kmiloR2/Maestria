{
 "cells": [
  {
   "cell_type": "markdown",
   "id": "d2ffe4eb",
   "metadata": {},
   "source": [
    "#### reference: https://huggingface.co/blog/sentiment-analysis-python\n",
    "\n",
    "On the Hugging Face Hub, there are more than 215 sentiment analysis models publicly available and integrating them with Python just takes few lines of code.\n",
    "\n",
    "You can easily choose among all the available models just changing the name on the pipeline."
   ]
  },
  {
   "cell_type": "code",
   "execution_count": 2,
   "id": "11a7a144",
   "metadata": {},
   "outputs": [
    {
     "name": "stdout",
     "output_type": "stream",
     "text": [
      "Note: you may need to restart the kernel to use updated packages.\n"
     ]
    }
   ],
   "source": [
    "pip install -q transformers"
   ]
  },
  {
   "cell_type": "markdown",
   "id": "5f204e4b",
   "metadata": {},
   "source": [
    "### This is just an example - BERT model"
   ]
  },
  {
   "cell_type": "code",
   "execution_count": 6,
   "id": "eaa0d738",
   "metadata": {},
   "outputs": [
    {
     "data": {
      "application/vnd.jupyter.widget-view+json": {
       "model_id": "1c011cc948354284b4fe0b978bd0fff9",
       "version_major": 2,
       "version_minor": 0
      },
      "text/plain": [
       "Downloading (…)lve/main/config.json:   0%|          | 0.00/949 [00:00<?, ?B/s]"
      ]
     },
     "metadata": {},
     "output_type": "display_data"
    },
    {
     "name": "stderr",
     "output_type": "stream",
     "text": [
      "C:\\Users\\USUARIO\\anaconda3\\lib\\site-packages\\huggingface_hub\\file_download.py:133: UserWarning: `huggingface_hub` cache-system uses symlinks by default to efficiently store duplicated files but your machine does not support them in C:\\Users\\USUARIO\\.cache\\huggingface\\hub. Caching files will still work but in a degraded version that might require more space on your disk. This warning can be disabled by setting the `HF_HUB_DISABLE_SYMLINKS_WARNING` environment variable. For more details, see https://huggingface.co/docs/huggingface_hub/how-to-cache#limitations.\n",
      "To support symlinks on Windows, you either need to activate Developer Mode or to run Python as an administrator. In order to see activate developer mode, see this article: https://docs.microsoft.com/en-us/windows/apps/get-started/enable-your-device-for-development\n",
      "  warnings.warn(message)\n"
     ]
    },
    {
     "data": {
      "application/vnd.jupyter.widget-view+json": {
       "model_id": "b24c7badff294d10901ea25a28e57a89",
       "version_major": 2,
       "version_minor": 0
      },
      "text/plain": [
       "Downloading pytorch_model.bin:   0%|          | 0.00/540M [00:00<?, ?B/s]"
      ]
     },
     "metadata": {},
     "output_type": "display_data"
    },
    {
     "data": {
      "application/vnd.jupyter.widget-view+json": {
       "model_id": "6177a7614fd9433c8535f2be6182523d",
       "version_major": 2,
       "version_minor": 0
      },
      "text/plain": [
       "Downloading (…)okenizer_config.json:   0%|          | 0.00/338 [00:00<?, ?B/s]"
      ]
     },
     "metadata": {},
     "output_type": "display_data"
    },
    {
     "data": {
      "application/vnd.jupyter.widget-view+json": {
       "model_id": "c1736576c5824ee2bb72af72837ac2eb",
       "version_major": 2,
       "version_minor": 0
      },
      "text/plain": [
       "Downloading (…)solve/main/vocab.txt:   0%|          | 0.00/843k [00:00<?, ?B/s]"
      ]
     },
     "metadata": {},
     "output_type": "display_data"
    },
    {
     "data": {
      "application/vnd.jupyter.widget-view+json": {
       "model_id": "22f1665c70744e21a414fb58e9fb288f",
       "version_major": 2,
       "version_minor": 0
      },
      "text/plain": [
       "Downloading (…)solve/main/bpe.codes:   0%|          | 0.00/1.08M [00:00<?, ?B/s]"
      ]
     },
     "metadata": {},
     "output_type": "display_data"
    },
    {
     "data": {
      "application/vnd.jupyter.widget-view+json": {
       "model_id": "091e45f0fb0b4cd3a263de7cda7cdee5",
       "version_major": 2,
       "version_minor": 0
      },
      "text/plain": [
       "Downloading (…)in/added_tokens.json:   0%|          | 0.00/22.0 [00:00<?, ?B/s]"
      ]
     },
     "metadata": {},
     "output_type": "display_data"
    },
    {
     "data": {
      "application/vnd.jupyter.widget-view+json": {
       "model_id": "01a1c54492164d3ba0f4fb29244e6c1d",
       "version_major": 2,
       "version_minor": 0
      },
      "text/plain": [
       "Downloading (…)cial_tokens_map.json:   0%|          | 0.00/167 [00:00<?, ?B/s]"
      ]
     },
     "metadata": {},
     "output_type": "display_data"
    },
    {
     "name": "stderr",
     "output_type": "stream",
     "text": [
      "emoji is not installed, thus not converting emoticons or emojis into text. Install emoji: pip3 install emoji==0.6.0\n"
     ]
    },
    {
     "data": {
      "text/plain": [
       "[{'label': 'POS', 'score': 0.9916695356369019},\n",
       " {'label': 'NEG', 'score': 0.9806600213050842}]"
      ]
     },
     "execution_count": 6,
     "metadata": {},
     "output_type": "execute_result"
    }
   ],
   "source": [
    "from transformers import pipeline\n",
    "sentiment_pipeline = pipeline(model=\"finiteautomata/bertweet-base-sentiment-analysis\")\n",
    "data = [\"I love you\", \"I hate you\"]\n",
    "sentiment_pipeline(data)\n"
   ]
  },
  {
   "cell_type": "markdown",
   "id": "9cd9befb",
   "metadata": {},
   "source": [
    "### Here is the real application"
   ]
  },
  {
   "cell_type": "code",
   "execution_count": 3,
   "id": "94e92d0e",
   "metadata": {},
   "outputs": [
    {
     "data": {
      "text/html": [
       "<div>\n",
       "<style scoped>\n",
       "    .dataframe tbody tr th:only-of-type {\n",
       "        vertical-align: middle;\n",
       "    }\n",
       "\n",
       "    .dataframe tbody tr th {\n",
       "        vertical-align: top;\n",
       "    }\n",
       "\n",
       "    .dataframe thead th {\n",
       "        text-align: right;\n",
       "    }\n",
       "</style>\n",
       "<table border=\"1\" class=\"dataframe\">\n",
       "  <thead>\n",
       "    <tr style=\"text-align: right;\">\n",
       "      <th></th>\n",
       "      <th>Feedback</th>\n",
       "    </tr>\n",
       "  </thead>\n",
       "  <tbody>\n",
       "    <tr>\n",
       "      <th>0</th>\n",
       "      <td>I want to talk to you about your work on this ...</td>\n",
       "    </tr>\n",
       "    <tr>\n",
       "      <th>1</th>\n",
       "      <td>I want to talk to you about your priorities. I...</td>\n",
       "    </tr>\n",
       "    <tr>\n",
       "      <th>2</th>\n",
       "      <td>Reaching your goal of [name the goal] is a big...</td>\n",
       "    </tr>\n",
       "    <tr>\n",
       "      <th>3</th>\n",
       "      <td>One of your most impactful moments was how you...</td>\n",
       "    </tr>\n",
       "    <tr>\n",
       "      <th>4</th>\n",
       "      <td>It’s clear you’re excited about the project. B...</td>\n",
       "    </tr>\n",
       "  </tbody>\n",
       "</table>\n",
       "</div>"
      ],
      "text/plain": [
       "                                            Feedback\n",
       "0  I want to talk to you about your work on this ...\n",
       "1  I want to talk to you about your priorities. I...\n",
       "2  Reaching your goal of [name the goal] is a big...\n",
       "3  One of your most impactful moments was how you...\n",
       "4  It’s clear you’re excited about the project. B..."
      ]
     },
     "execution_count": 3,
     "metadata": {},
     "output_type": "execute_result"
    }
   ],
   "source": [
    "import pandas as pd\n",
    "\n",
    "df = pd.read_excel('https://raw.githubusercontent.com/kmiloR2/Maestria/main/feedback-examples.xlsx')\n",
    "df.head()"
   ]
  },
  {
   "cell_type": "markdown",
   "id": "1bb8b619",
   "metadata": {},
   "source": [
    "### Code provided by Chat GPT: \n",
    "\n",
    "#### having this python code: from transformers import pipeline sentiment_pipeline = pipeline(model=\"finiteautomata/bertweet-base-sentiment-analysis\") sentiment_pipeline(data), please provide a python code to apply the model over a dataframe with a single column called \"Feedback\""
   ]
  },
  {
   "cell_type": "code",
   "execution_count": 8,
   "id": "24e6ea7b",
   "metadata": {},
   "outputs": [
    {
     "data": {
      "text/html": [
       "<div>\n",
       "<style scoped>\n",
       "    .dataframe tbody tr th:only-of-type {\n",
       "        vertical-align: middle;\n",
       "    }\n",
       "\n",
       "    .dataframe tbody tr th {\n",
       "        vertical-align: top;\n",
       "    }\n",
       "\n",
       "    .dataframe thead th {\n",
       "        text-align: right;\n",
       "    }\n",
       "</style>\n",
       "<table border=\"1\" class=\"dataframe\">\n",
       "  <thead>\n",
       "    <tr style=\"text-align: right;\">\n",
       "      <th></th>\n",
       "      <th>Feedback</th>\n",
       "      <th>Sentiment</th>\n",
       "      <th>Sentiment_Label</th>\n",
       "      <th>Sentiment_Score</th>\n",
       "    </tr>\n",
       "  </thead>\n",
       "  <tbody>\n",
       "    <tr>\n",
       "      <th>0</th>\n",
       "      <td>I want to talk to you about your work on this ...</td>\n",
       "      <td>[{'label': 'NEU', 'score': 0.7832766175270081}]</td>\n",
       "      <td>NEU</td>\n",
       "      <td>0.783277</td>\n",
       "    </tr>\n",
       "    <tr>\n",
       "      <th>1</th>\n",
       "      <td>I want to talk to you about your priorities. I...</td>\n",
       "      <td>[{'label': 'POS', 'score': 0.8706808686256409}]</td>\n",
       "      <td>POS</td>\n",
       "      <td>0.870681</td>\n",
       "    </tr>\n",
       "    <tr>\n",
       "      <th>2</th>\n",
       "      <td>Reaching your goal of [name the goal] is a big...</td>\n",
       "      <td>[{'label': 'POS', 'score': 0.9895287156105042}]</td>\n",
       "      <td>POS</td>\n",
       "      <td>0.989529</td>\n",
       "    </tr>\n",
       "    <tr>\n",
       "      <th>3</th>\n",
       "      <td>One of your most impactful moments was how you...</td>\n",
       "      <td>[{'label': 'POS', 'score': 0.990766167640686}]</td>\n",
       "      <td>POS</td>\n",
       "      <td>0.990766</td>\n",
       "    </tr>\n",
       "    <tr>\n",
       "      <th>4</th>\n",
       "      <td>It’s clear you’re excited about the project. B...</td>\n",
       "      <td>[{'label': 'POS', 'score': 0.5218806266784668}]</td>\n",
       "      <td>POS</td>\n",
       "      <td>0.521881</td>\n",
       "    </tr>\n",
       "  </tbody>\n",
       "</table>\n",
       "</div>"
      ],
      "text/plain": [
       "                                            Feedback  \\\n",
       "0  I want to talk to you about your work on this ...   \n",
       "1  I want to talk to you about your priorities. I...   \n",
       "2  Reaching your goal of [name the goal] is a big...   \n",
       "3  One of your most impactful moments was how you...   \n",
       "4  It’s clear you’re excited about the project. B...   \n",
       "\n",
       "                                         Sentiment Sentiment_Label  \\\n",
       "0  [{'label': 'NEU', 'score': 0.7832766175270081}]             NEU   \n",
       "1  [{'label': 'POS', 'score': 0.8706808686256409}]             POS   \n",
       "2  [{'label': 'POS', 'score': 0.9895287156105042}]             POS   \n",
       "3   [{'label': 'POS', 'score': 0.990766167640686}]             POS   \n",
       "4  [{'label': 'POS', 'score': 0.5218806266784668}]             POS   \n",
       "\n",
       "   Sentiment_Score  \n",
       "0         0.783277  \n",
       "1         0.870681  \n",
       "2         0.989529  \n",
       "3         0.990766  \n",
       "4         0.521881  "
      ]
     },
     "execution_count": 8,
     "metadata": {},
     "output_type": "execute_result"
    }
   ],
   "source": [
    "\n",
    "\n",
    "df[\"Sentiment\"] = df[\"Feedback\"].apply(lambda feedback: sentiment_pipeline(feedback))\n",
    "\n",
    "# Extract the sentiment labels and scores from the model output\n",
    "df[\"Sentiment_Label\"] = df[\"Sentiment\"].apply(lambda sentiment: sentiment[0]['label'])\n",
    "df[\"Sentiment_Score\"] = df[\"Sentiment\"].apply(lambda sentiment: sentiment[0]['score'])\n",
    "\n",
    "# Print the DataFrame with sentiment analysis results\n",
    "df.head()"
   ]
  },
  {
   "cell_type": "code",
   "execution_count": null,
   "id": "0c469b3c",
   "metadata": {},
   "outputs": [],
   "source": []
  }
 ],
 "metadata": {
  "kernelspec": {
   "display_name": "Python 3 (ipykernel)",
   "language": "python",
   "name": "python3"
  },
  "language_info": {
   "codemirror_mode": {
    "name": "ipython",
    "version": 3
   },
   "file_extension": ".py",
   "mimetype": "text/x-python",
   "name": "python",
   "nbconvert_exporter": "python",
   "pygments_lexer": "ipython3",
   "version": "3.9.12"
  }
 },
 "nbformat": 4,
 "nbformat_minor": 5
}
